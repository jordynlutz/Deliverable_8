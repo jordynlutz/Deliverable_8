{
  "nbformat": 4,
  "nbformat_minor": 0,
  "metadata": {
    "colab": {
      "provenance": []
    },
    "kernelspec": {
      "name": "python3",
      "display_name": "Python 3"
    },
    "language_info": {
      "name": "python"
    }
  },
  "cells": [
    {
      "cell_type": "code",
      "source": [
        "#Name: Jordyn Lutz\n",
        "#Date: 3/15/2022\n",
        "#Description: Python Methods"
      ],
      "metadata": {
        "id": "dg2LZao-AoSG"
      },
      "execution_count": 25,
      "outputs": []
    },
    {
      "cell_type": "code",
      "execution_count": 26,
      "metadata": {
        "id": "ALmy0j19_ACV"
      },
      "outputs": [],
      "source": [
        "import numpy as np"
      ]
    },
    {
      "cell_type": "code",
      "source": [
        "def random_list(size):\n",
        "  list = []\n",
        "  for i in range(size):\n",
        "    list.append(np.random.randint(10,50))\n",
        "  return list\n",
        "\n",
        "def sum_random (list):\n",
        "  sum = 0\n",
        "  for i in range(len(list)):\n",
        "    sum = sum + list[i]\n",
        "  return sum"
      ],
      "metadata": {
        "id": "Fom1KxNsAj8B"
      },
      "execution_count": 27,
      "outputs": []
    },
    {
      "cell_type": "code",
      "source": [
        "n=0\n",
        "while n<5 or n>15:\n",
        " n = int(input(\"Enter an integer from 5 to 15: \"))\n",
        "\n",
        " if n<5 or n>15:\n",
        "   print(\"That integer is invalid, please enter an integer from 5 to 15: \")"
      ],
      "metadata": {
        "colab": {
          "base_uri": "https://localhost:8080/"
        },
        "id": "EJ4cPgknCg46",
        "outputId": "883dcd57-c172-45bc-8105-634e8a9edf1f"
      },
      "execution_count": 47,
      "outputs": [
        {
          "name": "stdout",
          "output_type": "stream",
          "text": [
            "Enter an integer from 5 to 15: 19\n",
            "That integer is invalid, please enter an integer from 5 to 15: \n",
            "Enter an integer from 5 to 15: 6\n"
          ]
        }
      ]
    },
    {
      "cell_type": "code",
      "source": [
        "MyList=random_list(n)\n",
        "MyList"
      ],
      "metadata": {
        "colab": {
          "base_uri": "https://localhost:8080/"
        },
        "id": "tSTF0AYHCuqH",
        "outputId": "403dfbb0-53c3-4dfd-cef1-7f31274c356c"
      },
      "execution_count": 48,
      "outputs": [
        {
          "output_type": "execute_result",
          "data": {
            "text/plain": [
              "[47, 46, 47, 36, 49, 45]"
            ]
          },
          "metadata": {},
          "execution_count": 48
        }
      ]
    },
    {
      "cell_type": "code",
      "source": [
        "MySum=sum (MyList)\n",
        "MySum"
      ],
      "metadata": {
        "colab": {
          "base_uri": "https://localhost:8080/"
        },
        "id": "bq61f__cIjBi",
        "outputId": "5242e4dc-dc03-4ecd-e9b7-905757e7132b"
      },
      "execution_count": 49,
      "outputs": [
        {
          "output_type": "execute_result",
          "data": {
            "text/plain": [
              "270"
            ]
          },
          "metadata": {},
          "execution_count": 49
        }
      ]
    },
    {
      "cell_type": "code",
      "source": [
        "print (\"The elements of the array are: \" + ' '.join(str(element) for element in MyList))"
      ],
      "metadata": {
        "colab": {
          "base_uri": "https://localhost:8080/"
        },
        "id": "bUh-bZlLI9Th",
        "outputId": "8c2c0da4-1185-4b64-be78-330d712ccb87"
      },
      "execution_count": 50,
      "outputs": [
        {
          "output_type": "stream",
          "name": "stdout",
          "text": [
            "The elements of the array are: 47 46 47 36 49 45\n"
          ]
        }
      ]
    },
    {
      "cell_type": "code",
      "source": [
        "outputSum=str(MySum)\n",
        "print(\"The sum is: \"+ outputSum)"
      ],
      "metadata": {
        "colab": {
          "base_uri": "https://localhost:8080/"
        },
        "id": "Mpd53KnCLs0L",
        "outputId": "132e1236-0d0b-4e4e-9a0c-1ec04ea305c2"
      },
      "execution_count": 51,
      "outputs": [
        {
          "output_type": "stream",
          "name": "stdout",
          "text": [
            "The sum is: 270\n"
          ]
        }
      ]
    }
  ]
}